{
 "cells": [
  {
   "cell_type": "markdown",
   "metadata": {
    "id": "0Ptqdz6kR02i"
   },
   "source": [
    "## Schedule Scrapper"
   ]
  },
  {
   "cell_type": "markdown",
   "metadata": {
    "id": "z3GDtkoEjvUu"
   },
   "source": [
    "### Basic Libraries Setup"
   ]
  },
  {
   "cell_type": "code",
   "execution_count": 25,
   "metadata": {
    "id": "tupPY4f4hF45"
   },
   "outputs": [],
   "source": [
    "# Libraries\n",
    "from bs4 import BeautifulSoup\n",
    "import requests\n",
    "import pandas as pd\n",
    "import numpy as np"
   ]
  },
  {
   "cell_type": "code",
   "execution_count": 26,
   "metadata": {
    "id": "S9BUtir3jL24"
   },
   "outputs": [],
   "source": [
    "# page url\n",
    "url = 'https://www.cricbuzz.com/cricket-series/7607/indian-premier-league-2024/matches'"
   ]
  },
  {
   "cell_type": "code",
   "execution_count": 27,
   "metadata": {
    "id": "Z1NjKpP3jZl5"
   },
   "outputs": [],
   "source": [
    "# User Agent is for Genuinue user information\n",
    "HEADERS = ({'User-Agent' :'https://explore.whatismybrowser.com/useragents/parse/?analyse-my-user-agent=yes','Accept-Language':'en-US en;q=0.5'})"
   ]
  },
  {
   "cell_type": "code",
   "execution_count": 28,
   "metadata": {
    "id": "KaDE1nDVjbz7"
   },
   "outputs": [
    {
     "data": {
      "text/plain": [
       "<Response [200]>"
      ]
     },
     "execution_count": 28,
     "metadata": {},
     "output_type": "execute_result"
    }
   ],
   "source": [
    "webpage = requests.get(url,headers = HEADERS)\n",
    "webpage # Response should be 200\n"
   ]
  },
  {
   "cell_type": "markdown",
   "metadata": {
    "id": "0EKsaI89jyQY"
   },
   "source": [
    "### Main Soup"
   ]
  },
  {
   "cell_type": "code",
   "execution_count": 29,
   "metadata": {
    "id": "v-11lpqyjen6"
   },
   "outputs": [
    {
     "name": "stdout",
     "output_type": "stream",
     "text": [
      "Webpage Content : \n",
      "b'\\r\\n\\r\\n<!DOCTYPE html><html lang=\"en\" itemscope itemtype=\"http://schema.org/WebPage\"><head><meta charset=\"utf-8\"><script>var is_mobile = /symbian|tizen|midp|uc(web|browser)|MSIE (5.0|6.0|7.0|8.0)|tablet/i.test(navigator.userAgent);\\tif(is_mobile && window.location.hostname != \"www1.cricbuzz.com\") window.location.hostname = \"m.cricbuzz.com\";</script><script src=\"https://www.gstatic.com/cv/js/sender/v1/' \n",
      "\n",
      " Type : <class 'bytes'>\n"
     ]
    }
   ],
   "source": [
    "print(f'Webpage Content : \\n{webpage.content[:400]} \\n\\n Type : {type(webpage.content)}')"
   ]
  },
  {
   "cell_type": "code",
   "execution_count": 30,
   "metadata": {
    "id": "0iwflhyRj8A3"
   },
   "outputs": [
    {
     "data": {
      "text/plain": [
       "'\\n Indian Premier League 2024 schedule, live scores and results | Cricbuzz.com  ✖Live ScoresScheduleArchivesNewsAll Stories  Premium Editorials Latest NewsTopicsSpotlightOpinionsSpecialsStats & AnalysisInterviewsLive BlogsHarsha BhogleSeries  New Zealand tour of India, 2024 India tour of South Africa, 2024 South Africa tour of Bangladesh, 2024 England tour of West Indies, 2024 New Zealand Women tou'"
      ]
     },
     "execution_count": 30,
     "metadata": {},
     "output_type": "execute_result"
    }
   ],
   "source": [
    "main_soup = BeautifulSoup(webpage.content,'html.parser') # to html\n",
    "main_soup.text[:400] # First 00 characters in soup\n"
   ]
  },
  {
   "cell_type": "code",
   "execution_count": 31,
   "metadata": {
    "id": "qBBJuOHIkCkG"
   },
   "outputs": [
    {
     "name": "stdout",
     "output_type": "stream",
     "text": [
      "Match Details \n",
      " : [<a class=\"text-hvr-underline\" href=\"/cricket-scores/89654/csk-vs-rcb-1st-match-indian-premier-league-2024\" title=\"CHENNAI SUPER KINGS vs ROYAL CHALLENGERS BENGALURU Live Cricket Score and ball by ball commentary\"><span>CHENNAI SUPER KINGS vs ROYAL CHALLENGERS BENGALURU, 1st Match</span></a>, <a class=\"text-hvr-underline\" href=\"/cricket-scores/89661/pbks-vs-dc-2nd-match-indian-premier-league-2024\" title=\"PUNJAB KINGS vs DELHI CAPITALS Live Cricket Score and ball by ball commentary\"><span>PUNJAB KINGS vs DELHI CAPITALS, 2nd Match</span></a>, <a class=\"text-hvr-underline\" href=\"/cricket-scores/89665/kkr-vs-srh-3rd-match-indian-premier-league-2024\" title=\"KOLKATA KNIGHT RIDERS vs SUNRISERS HYDERABAD Live Cricket Score and ball by ball commentary\"><span>KOLKATA KNIGHT RIDERS vs SUNRISERS HYDERABAD, 3rd Match</span></a>]\n",
      "\n",
      "Venue Details \n",
      " : [<div class=\"text-gray\"> <span> 74 T20s </span> <span class=\"cb-nav-dt\"> . </span> <span>Mar 22</span> <span> - May 26</span> </div>, <div class=\"text-gray\">MA Chidambaram Stadium, Chennai</div>, <div class=\"cb-font-12 text-gray\"><span>02:30 PM </span>GMT\t/<span> 08:00 PM</span> LOCAL</div>]\n",
      "\n",
      "Winner  Details \n",
      " : [<a class=\"cb-text-complete\" href=\"/cricket-scores/89654/csk-vs-rcb-1st-match-indian-premier-league-2024\">Chennai Super Kings won by 6 wkts</a>, <a class=\"cb-text-complete\" href=\"/cricket-scores/89661/pbks-vs-dc-2nd-match-indian-premier-league-2024\">Punjab Kings won by 4 wkts</a>, <a class=\"cb-text-complete\" href=\"/cricket-scores/89665/kkr-vs-srh-3rd-match-indian-premier-league-2024\">Kolkata Knight Riders won by 4 runs</a>]\n",
      "\n"
     ]
    }
   ],
   "source": [
    "match_links = main_soup.find_all('a',attrs={'class':'text-hvr-underline'})\n",
    "venue_links = main_soup.find_all('div',attrs={'class':'text-gray'})\n",
    "winner = main_soup.find_all('a',attrs={'class':'cb-text-complete'})\n",
    "\n",
    "#CrossCheck 1st check First Match details\n",
    "print(f'Match Details \\n : {match_links[:3]}\\n')\n",
    "print(f'Venue Details \\n : {venue_links[:3]}\\n')\n",
    "print(f'Winner  Details \\n : {winner[:3]}\\n')"
   ]
  },
  {
   "cell_type": "code",
   "execution_count": 32,
   "metadata": {
    "id": "7B12MyWikKeR"
   },
   "outputs": [],
   "source": [
    "# 74 Match links\n",
    "#match_links[:73] # Q2 is gng on so 74-1"
   ]
  },
  {
   "cell_type": "code",
   "execution_count": 33,
   "metadata": {
    "id": "v6UMoyxNkKZJ"
   },
   "outputs": [
    {
     "name": "stdout",
     "output_type": "stream",
     "text": [
      "match_links : 76\n",
      "venue_links : 149\n"
     ]
    }
   ],
   "source": [
    "print(f'match_links : {len(match_links)}') # need to remove last url 74 only\n",
    "print(f'venue_links : {len(venue_links)}') # Venues will be double (Stadium, Venue)"
   ]
  },
  {
   "cell_type": "markdown",
   "metadata": {
    "id": "3JVDGezsmTsZ"
   },
   "source": [
    "### Match Schedule Extraction"
   ]
  },
  {
   "cell_type": "code",
   "execution_count": 34,
   "metadata": {
    "id": "L_WvP3ROkKUw"
   },
   "outputs": [
    {
     "data": {
      "text/plain": [
       "<a class=\"text-hvr-underline\" href=\"/cricket-scores/89654/csk-vs-rcb-1st-match-indian-premier-league-2024\" title=\"CHENNAI SUPER KINGS vs ROYAL CHALLENGERS BENGALURU Live Cricket Score and ball by ball commentary\"><span>CHENNAI SUPER KINGS vs ROYAL CHALLENGERS BENGALURU, 1st Match</span></a>"
      ]
     },
     "execution_count": 34,
     "metadata": {},
     "output_type": "execute_result"
    }
   ],
   "source": [
    "match_links[0] # 1st Match Details"
   ]
  },
  {
   "cell_type": "code",
   "execution_count": 36,
   "metadata": {
    "id": "sNnneAmlqHBS"
   },
   "outputs": [
    {
     "data": {
      "text/plain": [
       "'CHENNAI SUPER KINGS vs ROYAL CHALLENGERS BENGALURU, 1st Match'"
      ]
     },
     "execution_count": 36,
     "metadata": {},
     "output_type": "execute_result"
    }
   ],
   "source": [
    "match_links[0].text"
   ]
  },
  {
   "cell_type": "code",
   "execution_count": 37,
   "metadata": {
    "id": "ZluGGN90ng1y"
   },
   "outputs": [],
   "source": [
    "start = match_links[0].text.index('vs') # First Team Name will come before vs"
   ]
  },
  {
   "cell_type": "code",
   "execution_count": 38,
   "metadata": {
    "id": "Se7YxjtBnpqj"
   },
   "outputs": [],
   "source": [
    "end = match_links[0].text.index(',') # Second Team Name will come before comma"
   ]
  },
  {
   "cell_type": "code",
   "execution_count": 39,
   "metadata": {
    "id": "bqr-Jmn5p0MQ"
   },
   "outputs": [
    {
     "data": {
      "text/plain": [
       "('CHENNAI SUPER KINGS', 'ROYAL CHALLENGERS BENGALURU')"
      ]
     },
     "execution_count": 39,
     "metadata": {},
     "output_type": "execute_result"
    }
   ],
   "source": [
    "match_links[0].text[:start].strip(),match_links[0].text[start+2:end].strip()"
   ]
  },
  {
   "cell_type": "code",
   "execution_count": 40,
   "metadata": {
    "id": "vVNrnHPMnR_N"
   },
   "outputs": [],
   "source": [
    "team_1,team_2 = match_links[0].text[:start].strip(),match_links[0].text[start+2:end].strip()"
   ]
  },
  {
   "cell_type": "code",
   "execution_count": 41,
   "metadata": {
    "id": "x_DChRBco0R8"
   },
   "outputs": [
    {
     "data": {
      "text/plain": [
       "('CSK', 'RCB')"
      ]
     },
     "execution_count": 41,
     "metadata": {},
     "output_type": "execute_result"
    }
   ],
   "source": [
    "\"\".join([word[0] for word in team_1.split(' ')]),\"\".join([word[0] for word in team_2.split(' ')]) # Intials"
   ]
  },
  {
   "cell_type": "code",
   "execution_count": 48,
   "metadata": {
    "id": "vAKwgWvgmr2Z"
   },
   "outputs": [
    {
     "name": "stdout",
     "output_type": "stream",
     "text": [
      "Match Details : ['CHENNAI SUPER KINGS VS ROYAL CHALLENGERS BENGALURU', 'PUNJAB KINGS VS DELHI CAPITALS', 'KOLKATA KNIGHT RIDERS VS SUNRISERS HYDERABAD'] 74\n",
      "Team_1 Names : ['CSK', 'PK', 'KKR'] 74\n",
      "Team_2 Names : ['RCB', 'DC', 'SH']74\n"
     ]
    }
   ],
   "source": [
    "match_List = []\n",
    "team_1_List = []\n",
    "team_2_List = []\n",
    "def match_schedule(match_links):\n",
    "    '''\n",
    "    This Function will Extract Match Details from Each Matchlinks\n",
    "    Such as Match Fixture and Team Names\n",
    "\n",
    "    Input : Match_links in HTML Format\n",
    "    Output : Match_Schedule in separate list\n",
    "\n",
    "    Sample Input : 'ROYAL CHALLENGERS BENGALURU VS CHENNAI SUPER KINGS, 1st Match'\n",
    "    '''\n",
    "    # For Easy Understanding please see above Input\n",
    "    for i in match_links[:74]: # Currently coding\n",
    "        row = i.text # Extracting only text from HTML\n",
    "\n",
    "        first = row.index('vs') # First Team Name will come before v in \"VS\"\n",
    "        end = row.find(',')  # This is placeholder for each match fixture\n",
    "\n",
    "        match_ = row[:end].upper()\n",
    "        team_1 = row[:first].strip() # Removing spaces & Capitalizing\n",
    "        team_2 = row[first+2:end].strip()\n",
    "        team_1,team_2 = \"\".join([word[0] for word in team_1.split(' ')]),\"\".join([word[0] for word in team_2.split(' ')]) # Only Intials of Each Team \"MUMBAI INDIANS\"--> \"MI\"\n",
    "\n",
    "        match_List.append(match_)\n",
    "        team_1_List.append(team_1)\n",
    "        team_2_List.append(team_2)\n",
    "\n",
    "    # Cross Check\n",
    "    print(f'Match Details : {match_List[:3]} {len(match_List)}')\n",
    "    print(f'Team_1 Names : {team_1_List[:3]} {len(team_1_List)}')\n",
    "    print(f'Team_2 Names : {team_2_List[:3]}{len(team_2_List)}')\n",
    "\n",
    "match_schedule(match_links)"
   ]
  },
  {
   "cell_type": "markdown",
   "metadata": {
    "id": "SRP2vbkDuA0D"
   },
   "source": [
    "### Venue & City Extraction"
   ]
  },
  {
   "cell_type": "code",
   "execution_count": 49,
   "metadata": {
    "id": "iLr3s4OetMBI"
   },
   "outputs": [
    {
     "data": {
      "text/plain": [
       "([<div class=\"text-gray\"> <span> 74 T20s </span> <span class=\"cb-nav-dt\"> . </span> <span>Mar 22</span> <span> - May 26</span> </div>,\n",
       "  <div class=\"text-gray\">MA Chidambaram Stadium, Chennai</div>,\n",
       "  <div class=\"cb-font-12 text-gray\"><span>02:30 PM </span>GMT\t/<span> 08:00 PM</span> LOCAL</div>,\n",
       "  <div class=\"text-gray\">Maharaja Yadavindra Singh International Cricket Stadium, Mullanpur, Chandigarh</div>],\n",
       " 149)"
      ]
     },
     "execution_count": 49,
     "metadata": {},
     "output_type": "execute_result"
    }
   ],
   "source": [
    "venue_links[:4],len(venue_links)"
   ]
  },
  {
   "cell_type": "code",
   "execution_count": 50,
   "metadata": {
    "id": "vJEM17lHuOnu"
   },
   "outputs": [
    {
     "data": {
      "text/plain": [
       "'Maharaja Yadavindra Singh International Cricket Stadium, Mullanpur, Chandigarh'"
      ]
     },
     "execution_count": 50,
     "metadata": {},
     "output_type": "execute_result"
    }
   ],
   "source": [
    "venue_links[3].text.strip()"
   ]
  },
  {
   "cell_type": "code",
   "execution_count": 51,
   "metadata": {
    "id": "hNVn2t8xQch_"
   },
   "outputs": [
    {
     "name": "stdout",
     "output_type": "stream",
     "text": [
      "Venue Details : ['MA Chidambaram Stadium', 'Maharaja Yadavindra Singh International Cricket Stadium', 'Eden Gardens'] 74\n",
      "City Details : ['Chennai', 'Mullanpur', 'Kolkata'] 74\n"
     ]
    }
   ],
   "source": [
    "Venue = []\n",
    "City = []\n",
    "def venue_city(venue_links):\n",
    "    '''\n",
    "    This Function will Extract the Venue & City Names from Venu_links\n",
    "    Input : Venue HTML tag\n",
    "    Output : Venue & City in Separate list(s)\n",
    "\n",
    "\n",
    "    Sample Input : 'Narendra Modi Stadium, Ahmedabad'\n",
    "    '''\n",
    "\n",
    "    # For Easy Understanding please see above Input\n",
    "    for i in range(1,len(venue_links),2): # please see above note\n",
    "        venue_city = venue_links[i].text  # Venue_City Extraction\n",
    "        venue = venue_city.split(',')[0].strip() # Venue Extraction\n",
    "        city = venue_city.split(',')[1].strip()  # City Extraction\n",
    "\n",
    "        Venue.append(venue)\n",
    "        City.append(city)\n",
    "\n",
    "\n",
    "    # Crosscheck\n",
    "    print(f'Venue Details : {Venue[:3]} {len(Venue)}')\n",
    "    print(f'City Details : {City[:3]} {len(City)}')\n",
    "\n",
    "venue_city(venue_links)"
   ]
  },
  {
   "cell_type": "markdown",
   "metadata": {
    "id": "POAwBSUoClom"
   },
   "source": [
    "### Player of the Match"
   ]
  },
  {
   "cell_type": "code",
   "execution_count": 52,
   "metadata": {
    "id": "BHSKVfrBCnTK"
   },
   "outputs": [],
   "source": [
    "def player_of_the_match_extraction(url):\n",
    "    '''\n",
    "    This Function will return the POTM (Player of the Match) for Each Match\n",
    "    Input : Each Match url\n",
    "    Output : POTM Name\n",
    "\n",
    "    Sample Input :\n",
    "    '''\n",
    "\n",
    "\n",
    "    potm_soup = requests.get(url)\n",
    "    potm_soup_html = BeautifulSoup(potm_soup.content,'html.parser')\n",
    "    potm_soup_html_obj = potm_soup_html.find_all('a',attrs={'class':'cb-link-undrln'}) #POTM Class\n",
    "    player = BeautifulSoup(str(potm_soup_html_obj), 'html.parser')\n",
    "\n",
    "    return player.a.get_text() if player.a else \"Match abandoned\"\n"
   ]
  },
  {
   "cell_type": "markdown",
   "metadata": {
    "id": "xxXHOW6ZLDmT"
   },
   "source": [
    "## Match Winner"
   ]
  },
  {
   "cell_type": "code",
   "execution_count": 53,
   "metadata": {
    "id": "S8Z3xXd4LE4Q"
   },
   "outputs": [],
   "source": [
    "def match_winner(url):\n",
    "  soup = BeautifulSoup(requests.get(url).content,'html.parser')\n",
    "  winner = soup.find('div',attrs={'class':'cb-col cb-col-100 cb-min-stts cb-text-complete'})\n",
    "  if bool(winner):\n",
    "    w_index = winner.text.find('won')\n",
    "    winner = winner.text[:w_index].strip()\n",
    "    return \"\".join([word[0] for word in winner.split(' ')])\n",
    "  else:\n",
    "    return \"Match abandoned\""
   ]
  },
  {
   "cell_type": "markdown",
   "metadata": {
    "id": "5iRWPOr974HQ"
   },
   "source": [
    "### Match Info"
   ]
  },
  {
   "cell_type": "code",
   "execution_count": 54,
   "metadata": {
    "id": "PbLjxEanGOEd"
   },
   "outputs": [],
   "source": [
    "Match_info = []\n",
    "player_of_the_match = []\n",
    "winner = []\n",
    "Score_card = []"
   ]
  },
  {
   "cell_type": "code",
   "execution_count": 55,
   "metadata": {
    "id": "Whrf86iLJL3J"
   },
   "outputs": [],
   "source": [
    "cricbuzz = 'https://www.cricbuzz.com/live-cricket-full-commentary/'\n",
    "potm_url = 'https://www.cricbuzz.com/cricket-scores/'\n",
    "score_card = 'https://www.cricbuzz.com/live-cricket-scorecard/'\n",
    "cnt = 1\n",
    "for match_ in match_links[:74]:\n",
    "    semi_url_index = match_.get('href').find('/',3)\n",
    "    url = match_.get('href')[semi_url_index:]\n",
    "    match_info = cricbuzz + url\n",
    "    potm = potm_url + url\n",
    "    scorecard = score_card+url\n",
    "    \n",
    "    Match_info.append(match_info)\n",
    "    player_of_the_match.append(player_of_the_match_extraction(potm))\n",
    "    Score_card.append(scorecard)\n",
    "  #winner.append(match_winner(potm))"
   ]
  },
  {
   "cell_type": "markdown",
   "metadata": {
    "id": "aES93k65Gjxm"
   },
   "source": [
    "### Cross Checking"
   ]
  },
  {
   "cell_type": "code",
   "execution_count": 56,
   "metadata": {
    "id": "8ZSj2QLfINXg"
   },
   "outputs": [
    {
     "data": {
      "text/plain": [
       "(74, 74, 74, 74, 74, 74, 74)"
      ]
     },
     "execution_count": 56,
     "metadata": {},
     "output_type": "execute_result"
    }
   ],
   "source": [
    "len(match_List),len(team_1_List),len(team_2_List),len(Match_info),len(player_of_the_match),len(Venue),len(City)"
   ]
  },
  {
   "cell_type": "code",
   "execution_count": 57,
   "metadata": {
    "id": "WVvnz30TRLLC"
   },
   "outputs": [
    {
     "data": {
      "text/plain": [
       "['https://www.cricbuzz.com/live-cricket-full-commentary//89654/csk-vs-rcb-1st-match-indian-premier-league-2024',\n",
       " 'https://www.cricbuzz.com/live-cricket-full-commentary//89661/pbks-vs-dc-2nd-match-indian-premier-league-2024',\n",
       " 'https://www.cricbuzz.com/live-cricket-full-commentary//89665/kkr-vs-srh-3rd-match-indian-premier-league-2024']"
      ]
     },
     "execution_count": 57,
     "metadata": {},
     "output_type": "execute_result"
    }
   ],
   "source": [
    "Match_info[:3]"
   ]
  },
  {
   "cell_type": "code",
   "execution_count": 58,
   "metadata": {},
   "outputs": [
    {
     "data": {
      "text/plain": [
       "['https://www.cricbuzz.com/live-cricket-scorecard//91731/rr-vs-rcb-eliminator-indian-premier-league-2024',\n",
       " 'https://www.cricbuzz.com/live-cricket-scorecard//91735/srh-vs-rr-qualifier-2-indian-premier-league-2024',\n",
       " 'https://www.cricbuzz.com/live-cricket-scorecard//91740/kkr-vs-srh-final-indian-premier-league-2024']"
      ]
     },
     "execution_count": 58,
     "metadata": {},
     "output_type": "execute_result"
    }
   ],
   "source": [
    "Score_card[-3:]"
   ]
  },
  {
   "cell_type": "code",
   "execution_count": 59,
   "metadata": {},
   "outputs": [
    {
     "data": {
      "text/plain": [
       "74"
      ]
     },
     "execution_count": 59,
     "metadata": {},
     "output_type": "execute_result"
    }
   ],
   "source": [
    "len(match_List)"
   ]
  },
  {
   "cell_type": "markdown",
   "metadata": {
    "id": "SihMJSuoT9mJ"
   },
   "source": [
    "### dataframe creation"
   ]
  },
  {
   "cell_type": "code",
   "execution_count": 60,
   "metadata": {
    "id": "r9S0_WX2Sq8G"
   },
   "outputs": [
    {
     "data": {
      "text/html": [
       "<div>\n",
       "<style scoped>\n",
       "    .dataframe tbody tr th:only-of-type {\n",
       "        vertical-align: middle;\n",
       "    }\n",
       "\n",
       "    .dataframe tbody tr th {\n",
       "        vertical-align: top;\n",
       "    }\n",
       "\n",
       "    .dataframe thead th {\n",
       "        text-align: right;\n",
       "    }\n",
       "</style>\n",
       "<table border=\"1\" class=\"dataframe\">\n",
       "  <thead>\n",
       "    <tr style=\"text-align: right;\">\n",
       "      <th></th>\n",
       "      <th>Match</th>\n",
       "      <th>Team_1</th>\n",
       "      <th>Team_2</th>\n",
       "      <th>Player_of_the_Match</th>\n",
       "      <th>Venue</th>\n",
       "      <th>City</th>\n",
       "      <th>Match_info</th>\n",
       "      <th>Score_Card</th>\n",
       "    </tr>\n",
       "  </thead>\n",
       "  <tbody>\n",
       "    <tr>\n",
       "      <th>0</th>\n",
       "      <td>CHENNAI SUPER KINGS VS ROYAL CHALLENGERS BENGA...</td>\n",
       "      <td>CSK</td>\n",
       "      <td>RCB</td>\n",
       "      <td>Mustafizur Rahman</td>\n",
       "      <td>MA Chidambaram Stadium</td>\n",
       "      <td>Chennai</td>\n",
       "      <td>https://www.cricbuzz.com/live-cricket-full-com...</td>\n",
       "      <td>https://www.cricbuzz.com/live-cricket-scorecar...</td>\n",
       "    </tr>\n",
       "    <tr>\n",
       "      <th>1</th>\n",
       "      <td>PUNJAB KINGS VS DELHI CAPITALS</td>\n",
       "      <td>PK</td>\n",
       "      <td>DC</td>\n",
       "      <td>Sam Curran</td>\n",
       "      <td>Maharaja Yadavindra Singh International Cricke...</td>\n",
       "      <td>Mullanpur</td>\n",
       "      <td>https://www.cricbuzz.com/live-cricket-full-com...</td>\n",
       "      <td>https://www.cricbuzz.com/live-cricket-scorecar...</td>\n",
       "    </tr>\n",
       "    <tr>\n",
       "      <th>2</th>\n",
       "      <td>KOLKATA KNIGHT RIDERS VS SUNRISERS HYDERABAD</td>\n",
       "      <td>KKR</td>\n",
       "      <td>SH</td>\n",
       "      <td>Andre Russell</td>\n",
       "      <td>Eden Gardens</td>\n",
       "      <td>Kolkata</td>\n",
       "      <td>https://www.cricbuzz.com/live-cricket-full-com...</td>\n",
       "      <td>https://www.cricbuzz.com/live-cricket-scorecar...</td>\n",
       "    </tr>\n",
       "    <tr>\n",
       "      <th>3</th>\n",
       "      <td>RAJASTHAN ROYALS VS LUCKNOW SUPER GIANTS</td>\n",
       "      <td>RR</td>\n",
       "      <td>LSG</td>\n",
       "      <td>Sanju Samson</td>\n",
       "      <td>Sawai Mansingh Stadium</td>\n",
       "      <td>Jaipur</td>\n",
       "      <td>https://www.cricbuzz.com/live-cricket-full-com...</td>\n",
       "      <td>https://www.cricbuzz.com/live-cricket-scorecar...</td>\n",
       "    </tr>\n",
       "    <tr>\n",
       "      <th>4</th>\n",
       "      <td>GUJARAT TITANS VS MUMBAI INDIANS</td>\n",
       "      <td>GT</td>\n",
       "      <td>MI</td>\n",
       "      <td>Sai Sudharsan</td>\n",
       "      <td>Narendra Modi Stadium</td>\n",
       "      <td>Ahmedabad</td>\n",
       "      <td>https://www.cricbuzz.com/live-cricket-full-com...</td>\n",
       "      <td>https://www.cricbuzz.com/live-cricket-scorecar...</td>\n",
       "    </tr>\n",
       "  </tbody>\n",
       "</table>\n",
       "</div>"
      ],
      "text/plain": [
       "                                               Match Team_1 Team_2  \\\n",
       "0  CHENNAI SUPER KINGS VS ROYAL CHALLENGERS BENGA...    CSK    RCB   \n",
       "1                     PUNJAB KINGS VS DELHI CAPITALS     PK     DC   \n",
       "2       KOLKATA KNIGHT RIDERS VS SUNRISERS HYDERABAD    KKR     SH   \n",
       "3           RAJASTHAN ROYALS VS LUCKNOW SUPER GIANTS     RR    LSG   \n",
       "4                   GUJARAT TITANS VS MUMBAI INDIANS     GT     MI   \n",
       "\n",
       "  Player_of_the_Match                                              Venue  \\\n",
       "0   Mustafizur Rahman                             MA Chidambaram Stadium   \n",
       "1          Sam Curran  Maharaja Yadavindra Singh International Cricke...   \n",
       "2       Andre Russell                                       Eden Gardens   \n",
       "3        Sanju Samson                             Sawai Mansingh Stadium   \n",
       "4       Sai Sudharsan                              Narendra Modi Stadium   \n",
       "\n",
       "        City                                         Match_info  \\\n",
       "0    Chennai  https://www.cricbuzz.com/live-cricket-full-com...   \n",
       "1  Mullanpur  https://www.cricbuzz.com/live-cricket-full-com...   \n",
       "2    Kolkata  https://www.cricbuzz.com/live-cricket-full-com...   \n",
       "3     Jaipur  https://www.cricbuzz.com/live-cricket-full-com...   \n",
       "4  Ahmedabad  https://www.cricbuzz.com/live-cricket-full-com...   \n",
       "\n",
       "                                          Score_Card  \n",
       "0  https://www.cricbuzz.com/live-cricket-scorecar...  \n",
       "1  https://www.cricbuzz.com/live-cricket-scorecar...  \n",
       "2  https://www.cricbuzz.com/live-cricket-scorecar...  \n",
       "3  https://www.cricbuzz.com/live-cricket-scorecar...  \n",
       "4  https://www.cricbuzz.com/live-cricket-scorecar...  "
      ]
     },
     "execution_count": 60,
     "metadata": {},
     "output_type": "execute_result"
    }
   ],
   "source": [
    "df = pd.DataFrame({'Match':match_List,'Team_1':team_1_List,'Team_2':team_2_List,'Player_of_the_Match':player_of_the_match,'Venue':Venue,'City':City,'Match_info':Match_info,'Score_Card':Score_card})\n",
    "df.head()"
   ]
  },
  {
   "cell_type": "code",
   "execution_count": 61,
   "metadata": {},
   "outputs": [
    {
     "data": {
      "text/plain": [
       "(array(['CSK', 'PK', 'KKR', 'RR', 'GT', 'RCB', 'SH', 'LSG', 'DC', 'MI'],\n",
       "       dtype=object),\n",
       " array(['RCB', 'DC', 'SH', 'LSG', 'MI', 'PK', 'GT', 'KKR', 'CSK', 'RR'],\n",
       "       dtype=object))"
      ]
     },
     "execution_count": 61,
     "metadata": {},
     "output_type": "execute_result"
    }
   ],
   "source": [
    "df['Team_1'].unique(),df['Team_2'].unique()"
   ]
  },
  {
   "cell_type": "code",
   "execution_count": 62,
   "metadata": {
    "id": "33jlJJ3KVw10"
   },
   "outputs": [],
   "source": [
    "df['Team_1'].rename({'PK':'PBKS','SH':'SRH'},inplace=True)\n",
    "df['Team_2'].rename({'PK':'PBKS','SH':'SRH'},inplace=True)"
   ]
  },
  {
   "cell_type": "code",
   "execution_count": 63,
   "metadata": {
    "id": "0IcEhOJ1WXsl"
   },
   "outputs": [
    {
     "data": {
      "text/plain": [
       "(array(['CSK', 'PK', 'KKR', 'RR', 'GT', 'RCB', 'SH', 'LSG', 'DC', 'MI'],\n",
       "       dtype=object),\n",
       " array(['RCB', 'DC', 'SH', 'LSG', 'MI', 'PK', 'GT', 'KKR', 'CSK', 'RR'],\n",
       "       dtype=object))"
      ]
     },
     "execution_count": 63,
     "metadata": {},
     "output_type": "execute_result"
    }
   ],
   "source": [
    "df['Team_1'].unique(),df['Team_2'].unique()"
   ]
  },
  {
   "cell_type": "code",
   "execution_count": 64,
   "metadata": {},
   "outputs": [
    {
     "data": {
      "text/html": [
       "<div>\n",
       "<style scoped>\n",
       "    .dataframe tbody tr th:only-of-type {\n",
       "        vertical-align: middle;\n",
       "    }\n",
       "\n",
       "    .dataframe tbody tr th {\n",
       "        vertical-align: top;\n",
       "    }\n",
       "\n",
       "    .dataframe thead th {\n",
       "        text-align: right;\n",
       "    }\n",
       "</style>\n",
       "<table border=\"1\" class=\"dataframe\">\n",
       "  <thead>\n",
       "    <tr style=\"text-align: right;\">\n",
       "      <th></th>\n",
       "      <th>Match</th>\n",
       "      <th>Team_1</th>\n",
       "      <th>Team_2</th>\n",
       "      <th>Player_of_the_Match</th>\n",
       "      <th>Venue</th>\n",
       "      <th>City</th>\n",
       "      <th>Match_info</th>\n",
       "      <th>Score_Card</th>\n",
       "    </tr>\n",
       "  </thead>\n",
       "  <tbody>\n",
       "    <tr>\n",
       "      <th>0</th>\n",
       "      <td>CHENNAI SUPER KINGS VS ROYAL CHALLENGERS BENGA...</td>\n",
       "      <td>CSK</td>\n",
       "      <td>RCB</td>\n",
       "      <td>Mustafizur Rahman</td>\n",
       "      <td>MA Chidambaram Stadium</td>\n",
       "      <td>Chennai</td>\n",
       "      <td>https://www.cricbuzz.com/live-cricket-full-com...</td>\n",
       "      <td>https://www.cricbuzz.com/live-cricket-scorecar...</td>\n",
       "    </tr>\n",
       "    <tr>\n",
       "      <th>1</th>\n",
       "      <td>PUNJAB KINGS VS DELHI CAPITALS</td>\n",
       "      <td>PK</td>\n",
       "      <td>DC</td>\n",
       "      <td>Sam Curran</td>\n",
       "      <td>Maharaja Yadavindra Singh International Cricke...</td>\n",
       "      <td>Mullanpur</td>\n",
       "      <td>https://www.cricbuzz.com/live-cricket-full-com...</td>\n",
       "      <td>https://www.cricbuzz.com/live-cricket-scorecar...</td>\n",
       "    </tr>\n",
       "    <tr>\n",
       "      <th>2</th>\n",
       "      <td>KOLKATA KNIGHT RIDERS VS SUNRISERS HYDERABAD</td>\n",
       "      <td>KKR</td>\n",
       "      <td>SH</td>\n",
       "      <td>Andre Russell</td>\n",
       "      <td>Eden Gardens</td>\n",
       "      <td>Kolkata</td>\n",
       "      <td>https://www.cricbuzz.com/live-cricket-full-com...</td>\n",
       "      <td>https://www.cricbuzz.com/live-cricket-scorecar...</td>\n",
       "    </tr>\n",
       "    <tr>\n",
       "      <th>3</th>\n",
       "      <td>RAJASTHAN ROYALS VS LUCKNOW SUPER GIANTS</td>\n",
       "      <td>RR</td>\n",
       "      <td>LSG</td>\n",
       "      <td>Sanju Samson</td>\n",
       "      <td>Sawai Mansingh Stadium</td>\n",
       "      <td>Jaipur</td>\n",
       "      <td>https://www.cricbuzz.com/live-cricket-full-com...</td>\n",
       "      <td>https://www.cricbuzz.com/live-cricket-scorecar...</td>\n",
       "    </tr>\n",
       "    <tr>\n",
       "      <th>4</th>\n",
       "      <td>GUJARAT TITANS VS MUMBAI INDIANS</td>\n",
       "      <td>GT</td>\n",
       "      <td>MI</td>\n",
       "      <td>Sai Sudharsan</td>\n",
       "      <td>Narendra Modi Stadium</td>\n",
       "      <td>Ahmedabad</td>\n",
       "      <td>https://www.cricbuzz.com/live-cricket-full-com...</td>\n",
       "      <td>https://www.cricbuzz.com/live-cricket-scorecar...</td>\n",
       "    </tr>\n",
       "  </tbody>\n",
       "</table>\n",
       "</div>"
      ],
      "text/plain": [
       "                                               Match Team_1 Team_2  \\\n",
       "0  CHENNAI SUPER KINGS VS ROYAL CHALLENGERS BENGA...    CSK    RCB   \n",
       "1                     PUNJAB KINGS VS DELHI CAPITALS     PK     DC   \n",
       "2       KOLKATA KNIGHT RIDERS VS SUNRISERS HYDERABAD    KKR     SH   \n",
       "3           RAJASTHAN ROYALS VS LUCKNOW SUPER GIANTS     RR    LSG   \n",
       "4                   GUJARAT TITANS VS MUMBAI INDIANS     GT     MI   \n",
       "\n",
       "  Player_of_the_Match                                              Venue  \\\n",
       "0   Mustafizur Rahman                             MA Chidambaram Stadium   \n",
       "1          Sam Curran  Maharaja Yadavindra Singh International Cricke...   \n",
       "2       Andre Russell                                       Eden Gardens   \n",
       "3        Sanju Samson                             Sawai Mansingh Stadium   \n",
       "4       Sai Sudharsan                              Narendra Modi Stadium   \n",
       "\n",
       "        City                                         Match_info  \\\n",
       "0    Chennai  https://www.cricbuzz.com/live-cricket-full-com...   \n",
       "1  Mullanpur  https://www.cricbuzz.com/live-cricket-full-com...   \n",
       "2    Kolkata  https://www.cricbuzz.com/live-cricket-full-com...   \n",
       "3     Jaipur  https://www.cricbuzz.com/live-cricket-full-com...   \n",
       "4  Ahmedabad  https://www.cricbuzz.com/live-cricket-full-com...   \n",
       "\n",
       "                                          Score_Card  \n",
       "0  https://www.cricbuzz.com/live-cricket-scorecar...  \n",
       "1  https://www.cricbuzz.com/live-cricket-scorecar...  \n",
       "2  https://www.cricbuzz.com/live-cricket-scorecar...  \n",
       "3  https://www.cricbuzz.com/live-cricket-scorecar...  \n",
       "4  https://www.cricbuzz.com/live-cricket-scorecar...  "
      ]
     },
     "execution_count": 64,
     "metadata": {},
     "output_type": "execute_result"
    }
   ],
   "source": [
    "df.head()"
   ]
  },
  {
   "cell_type": "code",
   "execution_count": 65,
   "metadata": {},
   "outputs": [
    {
     "name": "stdout",
     "output_type": "stream",
     "text": [
      "Folder 'data' created successfully.\n"
     ]
    }
   ],
   "source": [
    "import os\n",
    "\n",
    "folder_name = 'data'\n",
    "\n",
    "# Use os.mkdir() to create the directory\n",
    "try:\n",
    "    os.mkdir(folder_name)\n",
    "    print(f\"Folder '{folder_name}' created successfully.\")\n",
    "except FileExistsError:\n",
    "    print(f\"Folder '{folder_name}' already exists.\")\n",
    "except Exception as e:\n",
    "    print(f\"An error occurred: {e}\")\n"
   ]
  },
  {
   "cell_type": "code",
   "execution_count": 66,
   "metadata": {
    "id": "tNnHkqUNUGp_"
   },
   "outputs": [],
   "source": [
    "df.to_csv('data/ipl_2024_schedule.csv',index=False)"
   ]
  },
  {
   "cell_type": "code",
   "execution_count": null,
   "metadata": {
    "id": "w9VbYSL6Uj3b"
   },
   "outputs": [],
   "source": []
  }
 ],
 "metadata": {
  "colab": {
   "collapsed_sections": [
    "3JVDGezsmTsZ"
   ],
   "private_outputs": true,
   "provenance": []
  },
  "kernelspec": {
   "display_name": "Python 3",
   "language": "python",
   "name": "python3"
  },
  "language_info": {
   "codemirror_mode": {
    "name": "ipython",
    "version": 3
   },
   "file_extension": ".py",
   "mimetype": "text/x-python",
   "name": "python",
   "nbconvert_exporter": "python",
   "pygments_lexer": "ipython3",
   "version": "3.9.0"
  }
 },
 "nbformat": 4,
 "nbformat_minor": 4
}
